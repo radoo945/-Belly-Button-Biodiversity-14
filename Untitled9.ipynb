{
  "nbformat": 4,
  "nbformat_minor": 0,
  "metadata": {
    "colab": {
      "provenance": [],
      "authorship_tag": "ABX9TyNaEtSWW4ko1M645X+UqtMv",
      "include_colab_link": true
    },
    "kernelspec": {
      "name": "python3",
      "display_name": "Python 3"
    },
    "language_info": {
      "name": "python"
    }
  },
  "cells": [
    {
      "cell_type": "markdown",
      "metadata": {
        "id": "view-in-github",
        "colab_type": "text"
      },
      "source": [
        "<a href=\"https://colab.research.google.com/github/radoo945/-Belly-Button-Biodiversity-14/blob/main/Untitled9.ipynb\" target=\"_parent\"><img src=\"https://colab.research.google.com/assets/colab-badge.svg\" alt=\"Open In Colab\"/></a>"
      ]
    },
    {
      "cell_type": "code",
      "execution_count": null,
      "metadata": {
        "colab": {
          "base_uri": "https://localhost:8080/"
        },
        "id": "NysAZEBFi976",
        "outputId": "91cf4283-3782-4fbb-c360-22fcb11a35de"
      },
      "outputs": [
        {
          "output_type": "stream",
          "name": "stdout",
          "text": [
            "Collecting Spire.Presentation\n",
            "  Downloading spire_presentation-10.9.0-py3-none-manylinux_2_31_x86_64.whl.metadata (8.4 kB)\n",
            "Collecting plum-dispatch==1.7.4 (from Spire.Presentation)\n",
            "  Downloading plum_dispatch-1.7.4-py3-none-any.whl.metadata (1.8 kB)\n",
            "Downloading spire_presentation-10.9.0-py3-none-manylinux_2_31_x86_64.whl (37.5 MB)\n",
            "\u001b[2K   \u001b[90m━━━━━━━━━━━━━━━━━━━━━━━━━━━━━━━━━━━━━━━━\u001b[0m \u001b[32m37.5/37.5 MB\u001b[0m \u001b[31m49.5 MB/s\u001b[0m eta \u001b[36m0:00:00\u001b[0m\n",
            "\u001b[?25hDownloading plum_dispatch-1.7.4-py3-none-any.whl (24 kB)\n",
            "Installing collected packages: plum-dispatch, Spire.Presentation\n",
            "  Attempting uninstall: plum-dispatch\n",
            "    Found existing installation: plum-dispatch 2.5.8\n",
            "    Uninstalling plum-dispatch-2.5.8:\n",
            "      Successfully uninstalled plum-dispatch-2.5.8\n",
            "Successfully installed Spire.Presentation-10.9.0 plum-dispatch-1.7.4\n"
          ]
        }
      ],
      "source": [
        "pip install Spire.Presentation"
      ]
    },
    {
      "cell_type": "markdown",
      "source": [
        "# New Section"
      ],
      "metadata": {
        "id": "n8kh6KuukGGl"
      }
    },
    {
      "cell_type": "code",
      "metadata": {
        "colab": {
          "base_uri": "https://localhost:8080/"
        },
        "id": "1e442ea9",
        "outputId": "00053812-8ce6-4c85-89ba-0bc63f2f4c46"
      },
      "source": [
        "import os\n",
        "\n",
        "input_path = \"/content/IoT problems and solutions.pptx\"\n",
        "output_dir = \"/content/\"\n",
        "output_path = os.path.join(output_dir, \"IoT problems and solutions.pdf\")\n",
        "\n",
        "# Use LibreOffice to convert the PPTX to PDF\n",
        "# The 'headless' option prevents LibreOffice from opening a GUI\n",
        "# The 'convert-to pdf' option specifies the output format\n",
        "# The '--outdir' option specifies the output directory\n",
        "!libreoffice --headless --convert-to pdf \"$input_path\" --outdir \"$output_dir\"\n",
        "\n",
        "# Check if the output file was created\n",
        "if os.path.exists(output_path):\n",
        "    print(f\"Successfully converted {input_path} to {output_path}\")\n",
        "else:\n",
        "    print(f\"Conversion failed. {output_path} was not created.\")"
      ],
      "execution_count": 24,
      "outputs": [
        {
          "output_type": "stream",
          "name": "stdout",
          "text": [
            "convert /content/IoT problems and solutions.pptx -> /content/IoT problems and solutions.pdf using filter : impress_pdf_Export\n",
            "\n",
            "(libreoffice:26269): GLib-GObject-\u001b[1;35mCRITICAL\u001b[0m **: \u001b[34m12:14:12.726\u001b[0m: g_object_set: assertion 'G_IS_OBJECT (object)' failed\n",
            "\n",
            "(libreoffice:26269): GLib-GObject-\u001b[1;35mCRITICAL\u001b[0m **: \u001b[34m12:14:12.726\u001b[0m: g_object_set: assertion 'G_IS_OBJECT (object)' failed\n",
            "\n",
            "(libreoffice:26269): GLib-GObject-\u001b[1;35mCRITICAL\u001b[0m **: \u001b[34m12:14:12.726\u001b[0m: g_object_set: assertion 'G_IS_OBJECT (object)' failed\n",
            "\n",
            "(libreoffice:26269): GStreamer-\u001b[1;35mCRITICAL\u001b[0m **: \u001b[34m12:14:12.726\u001b[0m: gst_element_get_bus: assertion 'GST_IS_ELEMENT (element)' failed\n",
            "\n",
            "(libreoffice:26269): GStreamer-\u001b[1;35mCRITICAL\u001b[0m **: \u001b[34m12:14:12.726\u001b[0m: gst_bus_add_watch_full: assertion 'GST_IS_BUS (bus)' failed\n",
            "\n",
            "(libreoffice:26269): GStreamer-\u001b[1;35mCRITICAL\u001b[0m **: \u001b[34m12:14:12.726\u001b[0m: gst_bus_set_sync_handler: assertion 'GST_IS_BUS (bus)' failed\n",
            "\n",
            "(libreoffice:26269): GLib-GObject-\u001b[1;35mCRITICAL\u001b[0m **: \u001b[34m12:14:12.726\u001b[0m: g_object_unref: assertion 'G_IS_OBJECT (object)' failed\n",
            "\n",
            "(libreoffice:26269): GStreamer-\u001b[1;35mCRITICAL\u001b[0m **: \u001b[34m12:14:12.726\u001b[0m: gst_element_set_state: assertion 'GST_IS_ELEMENT (element)' failed\n",
            "\n",
            "(libreoffice:26269): GLib-\u001b[1;35mCRITICAL\u001b[0m **: \u001b[34m12:14:32.727\u001b[0m: g_source_remove: assertion 'tag > 0' failed\n",
            "\n",
            "(libreoffice:26269): GLib-GObject-\u001b[1;35mCRITICAL\u001b[0m **: \u001b[34m12:14:34.018\u001b[0m: g_object_set: assertion 'G_IS_OBJECT (object)' failed\n",
            "\n",
            "(libreoffice:26269): GLib-GObject-\u001b[1;35mCRITICAL\u001b[0m **: \u001b[34m12:14:34.018\u001b[0m: g_object_set: assertion 'G_IS_OBJECT (object)' failed\n",
            "\n",
            "(libreoffice:26269): GLib-GObject-\u001b[1;35mCRITICAL\u001b[0m **: \u001b[34m12:14:34.018\u001b[0m: g_object_set: assertion 'G_IS_OBJECT (object)' failed\n",
            "\n",
            "(libreoffice:26269): GStreamer-\u001b[1;35mCRITICAL\u001b[0m **: \u001b[34m12:14:34.018\u001b[0m: gst_element_get_bus: assertion 'GST_IS_ELEMENT (element)' failed\n",
            "\n",
            "(libreoffice:26269): GStreamer-\u001b[1;35mCRITICAL\u001b[0m **: \u001b[34m12:14:34.018\u001b[0m: gst_bus_add_watch_full: assertion 'GST_IS_BUS (bus)' failed\n",
            "\n",
            "(libreoffice:26269): GStreamer-\u001b[1;35mCRITICAL\u001b[0m **: \u001b[34m12:14:34.018\u001b[0m: gst_bus_set_sync_handler: assertion 'GST_IS_BUS (bus)' failed\n",
            "\n",
            "(libreoffice:26269): GLib-GObject-\u001b[1;35mCRITICAL\u001b[0m **: \u001b[34m12:14:34.018\u001b[0m: g_object_unref: assertion 'G_IS_OBJECT (object)' failed\n",
            "\n",
            "(libreoffice:26269): GStreamer-\u001b[1;35mCRITICAL\u001b[0m **: \u001b[34m12:14:34.018\u001b[0m: gst_element_set_state: assertion 'GST_IS_ELEMENT (element)' failed\n",
            "\n",
            "(libreoffice:26269): GLib-\u001b[1;35mCRITICAL\u001b[0m **: \u001b[34m12:14:54.018\u001b[0m: g_source_remove: assertion 'tag > 0' failed\n",
            "\n",
            "(libreoffice:26269): GLib-GObject-\u001b[1;35mCRITICAL\u001b[0m **: \u001b[34m12:14:57.023\u001b[0m: g_object_set: assertion 'G_IS_OBJECT (object)' failed\n",
            "\n",
            "(libreoffice:26269): GLib-GObject-\u001b[1;35mCRITICAL\u001b[0m **: \u001b[34m12:14:57.023\u001b[0m: g_object_set: assertion 'G_IS_OBJECT (object)' failed\n",
            "\n",
            "(libreoffice:26269): GLib-GObject-\u001b[1;35mCRITICAL\u001b[0m **: \u001b[34m12:14:57.023\u001b[0m: g_object_set: assertion 'G_IS_OBJECT (object)' failed\n",
            "\n",
            "(libreoffice:26269): GStreamer-\u001b[1;35mCRITICAL\u001b[0m **: \u001b[34m12:14:57.023\u001b[0m: gst_element_get_bus: assertion 'GST_IS_ELEMENT (element)' failed\n",
            "\n",
            "(libreoffice:26269): GStreamer-\u001b[1;35mCRITICAL\u001b[0m **: \u001b[34m12:14:57.024\u001b[0m: gst_bus_add_watch_full: assertion 'GST_IS_BUS (bus)' failed\n",
            "\n",
            "(libreoffice:26269): GStreamer-\u001b[1;35mCRITICAL\u001b[0m **: \u001b[34m12:14:57.024\u001b[0m: gst_bus_set_sync_handler: assertion 'GST_IS_BUS (bus)' failed\n",
            "\n",
            "(libreoffice:26269): GLib-GObject-\u001b[1;35mCRITICAL\u001b[0m **: \u001b[34m12:14:57.024\u001b[0m: g_object_unref: assertion 'G_IS_OBJECT (object)' failed\n",
            "\n",
            "(libreoffice:26269): GStreamer-\u001b[1;35mCRITICAL\u001b[0m **: \u001b[34m12:14:57.024\u001b[0m: gst_element_set_state: assertion 'GST_IS_ELEMENT (element)' failed\n",
            "\n",
            "(libreoffice:26269): GLib-\u001b[1;35mCRITICAL\u001b[0m **: \u001b[34m12:15:17.024\u001b[0m: g_source_remove: assertion 'tag > 0' failed\n",
            "Successfully converted /content/IoT problems and solutions.pptx to /content/IoT problems and solutions.pdf\n"
          ]
        }
      ]
    }
  ]
}